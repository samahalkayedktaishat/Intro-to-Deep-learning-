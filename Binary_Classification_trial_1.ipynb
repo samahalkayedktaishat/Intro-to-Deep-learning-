{
  "nbformat": 4,
  "nbformat_minor": 0,
  "metadata": {
    "colab": {
      "name": "Binary Classification trial 1",
      "provenance": [],
      "collapsed_sections": []
    },
    "kernelspec": {
      "name": "python3",
      "display_name": "Python 3"
    }
  },
  "cells": [
    {
      "cell_type": "code",
      "metadata": {
        "colab": {
          "base_uri": "https://localhost:8080/"
        },
        "id": "PhZbbwNvTjg8",
        "outputId": "0b2bf96c-d9f8-4229-ca34-fde37f772de5"
      },
      "source": [
        "#mounting the drive\r\n",
        "from google.colab import drive\r\n",
        "drive.mount('/content/mydrive')"
      ],
      "execution_count": null,
      "outputs": [
        {
          "output_type": "stream",
          "text": [
            "Mounted at /content/mydrive\n"
          ],
          "name": "stdout"
        }
      ]
    },
    {
      "cell_type": "code",
      "metadata": {
        "colab": {
          "base_uri": "https://localhost:8080/"
        },
        "id": "cnEm3hgFWAsH",
        "outputId": "596edd63-0bbb-4e87-a027-78f7d209c690"
      },
      "source": [
        "#reading the csv file\r\n",
        "import pandas as pd \r\n",
        "df=pd.read_csv('/content/mydrive/MyDrive/Churn_Modelling.csv')\r\n",
        "print(df)"
      ],
      "execution_count": null,
      "outputs": [
        {
          "output_type": "stream",
          "text": [
            "      RowNumber  CustomerId    Surname  ...  IsActiveMember EstimatedSalary Exited\n",
            "0             1    15634602   Hargrave  ...               1       101348.88      1\n",
            "1             2    15647311       Hill  ...               1       112542.58      0\n",
            "2             3    15619304       Onio  ...               0       113931.57      1\n",
            "3             4    15701354       Boni  ...               0        93826.63      0\n",
            "4             5    15737888   Mitchell  ...               1        79084.10      0\n",
            "...         ...         ...        ...  ...             ...             ...    ...\n",
            "9995       9996    15606229   Obijiaku  ...               0        96270.64      0\n",
            "9996       9997    15569892  Johnstone  ...               1       101699.77      0\n",
            "9997       9998    15584532        Liu  ...               1        42085.58      1\n",
            "9998       9999    15682355  Sabbatini  ...               0        92888.52      1\n",
            "9999      10000    15628319     Walker  ...               0        38190.78      0\n",
            "\n",
            "[10000 rows x 14 columns]\n"
          ],
          "name": "stdout"
        }
      ]
    },
    {
      "cell_type": "code",
      "metadata": {
        "colab": {
          "base_uri": "https://localhost:8080/"
        },
        "id": "dDflcZuhWnVC",
        "outputId": "9ac6c11f-5512-4a7d-dc50-d82c71080ce3"
      },
      "source": [
        "#preparing the explanatory variables and the dependent variable\r\n",
        "x=df.iloc[:,3:13]\r\n",
        "y=df['Exited']\r\n",
        "print(x)\r\n",
        "x.info()"
      ],
      "execution_count": null,
      "outputs": [
        {
          "output_type": "stream",
          "text": [
            "      CreditScore Geography  Gender  ...  HasCrCard  IsActiveMember  EstimatedSalary\n",
            "0             619    France  Female  ...          1               1        101348.88\n",
            "1             608     Spain  Female  ...          0               1        112542.58\n",
            "2             502    France  Female  ...          1               0        113931.57\n",
            "3             699    France  Female  ...          0               0         93826.63\n",
            "4             850     Spain  Female  ...          1               1         79084.10\n",
            "...           ...       ...     ...  ...        ...             ...              ...\n",
            "9995          771    France    Male  ...          1               0         96270.64\n",
            "9996          516    France    Male  ...          1               1        101699.77\n",
            "9997          709    France  Female  ...          0               1         42085.58\n",
            "9998          772   Germany    Male  ...          1               0         92888.52\n",
            "9999          792    France  Female  ...          1               0         38190.78\n",
            "\n",
            "[10000 rows x 10 columns]\n",
            "<class 'pandas.core.frame.DataFrame'>\n",
            "RangeIndex: 10000 entries, 0 to 9999\n",
            "Data columns (total 10 columns):\n",
            " #   Column           Non-Null Count  Dtype  \n",
            "---  ------           --------------  -----  \n",
            " 0   CreditScore      10000 non-null  int64  \n",
            " 1   Geography        10000 non-null  object \n",
            " 2   Gender           10000 non-null  object \n",
            " 3   Age              10000 non-null  int64  \n",
            " 4   Tenure           10000 non-null  int64  \n",
            " 5   Balance          10000 non-null  float64\n",
            " 6   NumOfProducts    10000 non-null  int64  \n",
            " 7   HasCrCard        10000 non-null  int64  \n",
            " 8   IsActiveMember   10000 non-null  int64  \n",
            " 9   EstimatedSalary  10000 non-null  float64\n",
            "dtypes: float64(2), int64(6), object(2)\n",
            "memory usage: 781.4+ KB\n"
          ],
          "name": "stdout"
        }
      ]
    },
    {
      "cell_type": "code",
      "metadata": {
        "colab": {
          "base_uri": "https://localhost:8080/"
        },
        "id": "aXSGKX1aY9Km",
        "outputId": "b9a4444f-314f-4e0b-c0b3-b724113d33ad"
      },
      "source": [
        "#encoding the Gender column in x \r\n",
        "from sklearn.preprocessing import LabelEncoder\r\n",
        "label_encoder=LabelEncoder()\r\n",
        "x.iloc[:,2]=label_encoder.fit_transform(x.iloc[:,2])\r\n",
        "print(x)"
      ],
      "execution_count": null,
      "outputs": [
        {
          "output_type": "stream",
          "text": [
            "      CreditScore Geography  Gender  ...  HasCrCard  IsActiveMember  EstimatedSalary\n",
            "0             619    France       0  ...          1               1        101348.88\n",
            "1             608     Spain       0  ...          0               1        112542.58\n",
            "2             502    France       0  ...          1               0        113931.57\n",
            "3             699    France       0  ...          0               0         93826.63\n",
            "4             850     Spain       0  ...          1               1         79084.10\n",
            "...           ...       ...     ...  ...        ...             ...              ...\n",
            "9995          771    France       1  ...          1               0         96270.64\n",
            "9996          516    France       1  ...          1               1        101699.77\n",
            "9997          709    France       0  ...          0               1         42085.58\n",
            "9998          772   Germany       1  ...          1               0         92888.52\n",
            "9999          792    France       0  ...          1               0         38190.78\n",
            "\n",
            "[10000 rows x 10 columns]\n"
          ],
          "name": "stdout"
        }
      ]
    },
    {
      "cell_type": "code",
      "metadata": {
        "colab": {
          "base_uri": "https://localhost:8080/"
        },
        "id": "gKJxKfiOZc73",
        "outputId": "9e63c2de-4403-4a40-b892-8128cff8501d"
      },
      "source": [
        "#One hot encoding the Geography in x\r\n",
        "from sklearn.preprocessing import OneHotEncoder\r\n",
        "from sklearn.compose import ColumnTransformer\r\n",
        "import numpy as np\r\n",
        "Ohe=OneHotEncoder()\r\n",
        "ct=ColumnTransformer([('encoder',Ohe,[1])],remainder='passthrough')\r\n",
        "x=np.array(ct.fit_transform(x),dtype=np.float)\r\n",
        "x=pd.DataFrame(x)\r\n",
        "print(x)"
      ],
      "execution_count": null,
      "outputs": [
        {
          "output_type": "stream",
          "text": [
            "       0    1    2      3    4   ...         7    8    9    10         11\n",
            "0     1.0  0.0  0.0  619.0  0.0  ...       0.00  1.0  1.0  1.0  101348.88\n",
            "1     0.0  0.0  1.0  608.0  0.0  ...   83807.86  1.0  0.0  1.0  112542.58\n",
            "2     1.0  0.0  0.0  502.0  0.0  ...  159660.80  3.0  1.0  0.0  113931.57\n",
            "3     1.0  0.0  0.0  699.0  0.0  ...       0.00  2.0  0.0  0.0   93826.63\n",
            "4     0.0  0.0  1.0  850.0  0.0  ...  125510.82  1.0  1.0  1.0   79084.10\n",
            "...   ...  ...  ...    ...  ...  ...        ...  ...  ...  ...        ...\n",
            "9995  1.0  0.0  0.0  771.0  1.0  ...       0.00  2.0  1.0  0.0   96270.64\n",
            "9996  1.0  0.0  0.0  516.0  1.0  ...   57369.61  1.0  1.0  1.0  101699.77\n",
            "9997  1.0  0.0  0.0  709.0  0.0  ...       0.00  1.0  0.0  1.0   42085.58\n",
            "9998  0.0  1.0  0.0  772.0  1.0  ...   75075.31  2.0  1.0  0.0   92888.52\n",
            "9999  1.0  0.0  0.0  792.0  0.0  ...  130142.79  1.0  1.0  0.0   38190.78\n",
            "\n",
            "[10000 rows x 12 columns]\n"
          ],
          "name": "stdout"
        }
      ]
    },
    {
      "cell_type": "code",
      "metadata": {
        "colab": {
          "base_uri": "https://localhost:8080/"
        },
        "id": "fyussHuVeNiZ",
        "outputId": "d91272dc-1ff0-4f7d-c45d-09142e405d11"
      },
      "source": [
        "#droping one columns of the one hot encoding array because they are correlated\r\n",
        "x=x.iloc[:,1:]\r\n",
        "print(x)"
      ],
      "execution_count": null,
      "outputs": [
        {
          "output_type": "stream",
          "text": [
            "       1    2      3    4     5     6          7    8    9    10         11\n",
            "0     0.0  0.0  619.0  0.0  42.0   2.0       0.00  1.0  1.0  1.0  101348.88\n",
            "1     0.0  1.0  608.0  0.0  41.0   1.0   83807.86  1.0  0.0  1.0  112542.58\n",
            "2     0.0  0.0  502.0  0.0  42.0   8.0  159660.80  3.0  1.0  0.0  113931.57\n",
            "3     0.0  0.0  699.0  0.0  39.0   1.0       0.00  2.0  0.0  0.0   93826.63\n",
            "4     0.0  1.0  850.0  0.0  43.0   2.0  125510.82  1.0  1.0  1.0   79084.10\n",
            "...   ...  ...    ...  ...   ...   ...        ...  ...  ...  ...        ...\n",
            "9995  0.0  0.0  771.0  1.0  39.0   5.0       0.00  2.0  1.0  0.0   96270.64\n",
            "9996  0.0  0.0  516.0  1.0  35.0  10.0   57369.61  1.0  1.0  1.0  101699.77\n",
            "9997  0.0  0.0  709.0  0.0  36.0   7.0       0.00  1.0  0.0  1.0   42085.58\n",
            "9998  1.0  0.0  772.0  1.0  42.0   3.0   75075.31  2.0  1.0  0.0   92888.52\n",
            "9999  0.0  0.0  792.0  0.0  28.0   4.0  130142.79  1.0  1.0  0.0   38190.78\n",
            "\n",
            "[10000 rows x 11 columns]\n"
          ],
          "name": "stdout"
        }
      ]
    },
    {
      "cell_type": "code",
      "metadata": {
        "id": "KSQXUNziccBC"
      },
      "source": [
        "#Splitting our data \r\n",
        "from sklearn.model_selection import train_test_split\r\n",
        "x_train,x_test,y_train,y_test=train_test_split(x,y,test_size=0.3,random_state=10)\r\n"
      ],
      "execution_count": null,
      "outputs": []
    },
    {
      "cell_type": "code",
      "metadata": {
        "id": "wJQf-L4wgzf5"
      },
      "source": [
        "#standerdization \r\n",
        "from sklearn.preprocessing import StandardScaler\r\n",
        "sc=StandardScaler()\r\n",
        "x_train=sc.fit_transform(x_train)\r\n",
        "x_test=sc.transform(x_test)\r\n"
      ],
      "execution_count": null,
      "outputs": []
    },
    {
      "cell_type": "code",
      "metadata": {
        "id": "eH800AC4cc_u"
      },
      "source": [
        "#build the ANN model\r\n",
        "\r\n",
        "from tensorflow.keras.models import Sequential \r\n",
        "from tensorflow.keras.layers import Dense \r\n",
        "\r\n",
        "model=Sequential()\r\n",
        "model.add(Dense(6,activation='relu',input_shape=(11,),kernel_initializer='uniform'))\r\n",
        "model.add(Dense(6,activation='relu',kernel_initializer='uniform'))\r\n",
        "model.add(Dense(1,activation='sigmoid',kernel_initializer='uniform'))\r\n",
        "model.compile(optimizer='adam',loss='binary_crossentropy', metrics='accuracy')\r\n",
        "\r\n"
      ],
      "execution_count": null,
      "outputs": []
    },
    {
      "cell_type": "code",
      "metadata": {
        "colab": {
          "base_uri": "https://localhost:8080/"
        },
        "id": "hVNQRRA3WSCI",
        "outputId": "c77c705b-f258-4853-f4c9-30089e95bf8e"
      },
      "source": [
        "#training the model \r\n",
        "history=model.fit(x_train,y_train,epochs=100,batch_size=10)\r\n"
      ],
      "execution_count": null,
      "outputs": [
        {
          "output_type": "stream",
          "text": [
            "Epoch 1/100\n",
            "700/700 [==============================] - 1s 1ms/step - loss: 0.5720 - accuracy: 0.7891\n",
            "Epoch 2/100\n",
            "700/700 [==============================] - 1s 1ms/step - loss: 0.4388 - accuracy: 0.7902\n",
            "Epoch 3/100\n",
            "700/700 [==============================] - 1s 1ms/step - loss: 0.4264 - accuracy: 0.7976\n",
            "Epoch 4/100\n",
            "700/700 [==============================] - 1s 1ms/step - loss: 0.4188 - accuracy: 0.8113\n",
            "Epoch 5/100\n",
            "700/700 [==============================] - 1s 1ms/step - loss: 0.4103 - accuracy: 0.8285\n",
            "Epoch 6/100\n",
            "700/700 [==============================] - 1s 1ms/step - loss: 0.4040 - accuracy: 0.8356\n",
            "Epoch 7/100\n",
            "700/700 [==============================] - 1s 1ms/step - loss: 0.4258 - accuracy: 0.8267\n",
            "Epoch 8/100\n",
            "700/700 [==============================] - 1s 1ms/step - loss: 0.4043 - accuracy: 0.8350\n",
            "Epoch 9/100\n",
            "700/700 [==============================] - 1s 1ms/step - loss: 0.4237 - accuracy: 0.8215\n",
            "Epoch 10/100\n",
            "700/700 [==============================] - 1s 1ms/step - loss: 0.4105 - accuracy: 0.8333\n",
            "Epoch 11/100\n",
            "700/700 [==============================] - 1s 1ms/step - loss: 0.3979 - accuracy: 0.8438\n",
            "Epoch 12/100\n",
            "700/700 [==============================] - 1s 1ms/step - loss: 0.4006 - accuracy: 0.8392\n",
            "Epoch 13/100\n",
            "700/700 [==============================] - 1s 1ms/step - loss: 0.3951 - accuracy: 0.8427\n",
            "Epoch 14/100\n",
            "700/700 [==============================] - 1s 1ms/step - loss: 0.3908 - accuracy: 0.8412\n",
            "Epoch 15/100\n",
            "700/700 [==============================] - 1s 1ms/step - loss: 0.3971 - accuracy: 0.8388\n",
            "Epoch 16/100\n",
            "700/700 [==============================] - 1s 1ms/step - loss: 0.3962 - accuracy: 0.8386\n",
            "Epoch 17/100\n",
            "700/700 [==============================] - 1s 1ms/step - loss: 0.3957 - accuracy: 0.8441\n",
            "Epoch 18/100\n",
            "700/700 [==============================] - 1s 1ms/step - loss: 0.4120 - accuracy: 0.8296\n",
            "Epoch 19/100\n",
            "700/700 [==============================] - 1s 1ms/step - loss: 0.3855 - accuracy: 0.8399\n",
            "Epoch 20/100\n",
            "700/700 [==============================] - 1s 1ms/step - loss: 0.3959 - accuracy: 0.8408\n",
            "Epoch 21/100\n",
            "700/700 [==============================] - 1s 1ms/step - loss: 0.3866 - accuracy: 0.8442\n",
            "Epoch 22/100\n",
            "700/700 [==============================] - 1s 1ms/step - loss: 0.3885 - accuracy: 0.8414\n",
            "Epoch 23/100\n",
            "700/700 [==============================] - 1s 1ms/step - loss: 0.4016 - accuracy: 0.8349\n",
            "Epoch 24/100\n",
            "700/700 [==============================] - 1s 1ms/step - loss: 0.4077 - accuracy: 0.8332\n",
            "Epoch 25/100\n",
            "700/700 [==============================] - 1s 1ms/step - loss: 0.4045 - accuracy: 0.8391\n",
            "Epoch 26/100\n",
            "700/700 [==============================] - 1s 1ms/step - loss: 0.3998 - accuracy: 0.8373\n",
            "Epoch 27/100\n",
            "700/700 [==============================] - 1s 1ms/step - loss: 0.4000 - accuracy: 0.8370\n",
            "Epoch 28/100\n",
            "700/700 [==============================] - 1s 1ms/step - loss: 0.3975 - accuracy: 0.8401\n",
            "Epoch 29/100\n",
            "700/700 [==============================] - 1s 1ms/step - loss: 0.4249 - accuracy: 0.8153\n",
            "Epoch 30/100\n",
            "700/700 [==============================] - 1s 1ms/step - loss: 0.4002 - accuracy: 0.8345\n",
            "Epoch 31/100\n",
            "700/700 [==============================] - 1s 1ms/step - loss: 0.3928 - accuracy: 0.8419\n",
            "Epoch 32/100\n",
            "700/700 [==============================] - 1s 1ms/step - loss: 0.4057 - accuracy: 0.8335\n",
            "Epoch 33/100\n",
            "700/700 [==============================] - 1s 1ms/step - loss: 0.3986 - accuracy: 0.8381\n",
            "Epoch 34/100\n",
            "700/700 [==============================] - 1s 1ms/step - loss: 0.4041 - accuracy: 0.8346\n",
            "Epoch 35/100\n",
            "700/700 [==============================] - 1s 1ms/step - loss: 0.3960 - accuracy: 0.8397\n",
            "Epoch 36/100\n",
            "700/700 [==============================] - 1s 1ms/step - loss: 0.3932 - accuracy: 0.8363\n",
            "Epoch 37/100\n",
            "700/700 [==============================] - 1s 1ms/step - loss: 0.3913 - accuracy: 0.8379\n",
            "Epoch 38/100\n",
            "700/700 [==============================] - 1s 1ms/step - loss: 0.4060 - accuracy: 0.8325\n",
            "Epoch 39/100\n",
            "700/700 [==============================] - 1s 1ms/step - loss: 0.4027 - accuracy: 0.8334\n",
            "Epoch 40/100\n",
            "700/700 [==============================] - 1s 1ms/step - loss: 0.4071 - accuracy: 0.8333\n",
            "Epoch 41/100\n",
            "700/700 [==============================] - 1s 1ms/step - loss: 0.4033 - accuracy: 0.8311\n",
            "Epoch 42/100\n",
            "700/700 [==============================] - 1s 1ms/step - loss: 0.3909 - accuracy: 0.8388\n",
            "Epoch 43/100\n",
            "700/700 [==============================] - 1s 1ms/step - loss: 0.4038 - accuracy: 0.8341\n",
            "Epoch 44/100\n",
            "700/700 [==============================] - 1s 1ms/step - loss: 0.3982 - accuracy: 0.8335\n",
            "Epoch 45/100\n",
            "700/700 [==============================] - 1s 1ms/step - loss: 0.3986 - accuracy: 0.8340\n",
            "Epoch 46/100\n",
            "700/700 [==============================] - 1s 1ms/step - loss: 0.4042 - accuracy: 0.8344\n",
            "Epoch 47/100\n",
            "700/700 [==============================] - 1s 1ms/step - loss: 0.3943 - accuracy: 0.8368\n",
            "Epoch 48/100\n",
            "700/700 [==============================] - 1s 1ms/step - loss: 0.3967 - accuracy: 0.8354\n",
            "Epoch 49/100\n",
            "700/700 [==============================] - 1s 1ms/step - loss: 0.3925 - accuracy: 0.8419\n",
            "Epoch 50/100\n",
            "700/700 [==============================] - 1s 1ms/step - loss: 0.3890 - accuracy: 0.8393\n",
            "Epoch 51/100\n",
            "700/700 [==============================] - 1s 1ms/step - loss: 0.4028 - accuracy: 0.8305\n",
            "Epoch 52/100\n",
            "700/700 [==============================] - 1s 1ms/step - loss: 0.3961 - accuracy: 0.8358\n",
            "Epoch 53/100\n",
            "700/700 [==============================] - 1s 1ms/step - loss: 0.3849 - accuracy: 0.8498\n",
            "Epoch 54/100\n",
            "700/700 [==============================] - 1s 1ms/step - loss: 0.3989 - accuracy: 0.8359\n",
            "Epoch 55/100\n",
            "700/700 [==============================] - 1s 1ms/step - loss: 0.3998 - accuracy: 0.8341\n",
            "Epoch 56/100\n",
            "700/700 [==============================] - 1s 1ms/step - loss: 0.3954 - accuracy: 0.8411\n",
            "Epoch 57/100\n",
            "700/700 [==============================] - 1s 1ms/step - loss: 0.3928 - accuracy: 0.8375\n",
            "Epoch 58/100\n",
            "700/700 [==============================] - 1s 1ms/step - loss: 0.3968 - accuracy: 0.8380\n",
            "Epoch 59/100\n",
            "700/700 [==============================] - 1s 1ms/step - loss: 0.3936 - accuracy: 0.8394\n",
            "Epoch 60/100\n",
            "700/700 [==============================] - 1s 1ms/step - loss: 0.4082 - accuracy: 0.8321\n",
            "Epoch 61/100\n",
            "700/700 [==============================] - 1s 1ms/step - loss: 0.4029 - accuracy: 0.8300\n",
            "Epoch 62/100\n",
            "700/700 [==============================] - 1s 1ms/step - loss: 0.3931 - accuracy: 0.8373\n",
            "Epoch 63/100\n",
            "700/700 [==============================] - 1s 1ms/step - loss: 0.3887 - accuracy: 0.8397\n",
            "Epoch 64/100\n",
            "700/700 [==============================] - 1s 1ms/step - loss: 0.4016 - accuracy: 0.8361\n",
            "Epoch 65/100\n",
            "700/700 [==============================] - 1s 1ms/step - loss: 0.4082 - accuracy: 0.8299\n",
            "Epoch 66/100\n",
            "700/700 [==============================] - 1s 1ms/step - loss: 0.3903 - accuracy: 0.8404\n",
            "Epoch 67/100\n",
            "700/700 [==============================] - 1s 1ms/step - loss: 0.3898 - accuracy: 0.8408\n",
            "Epoch 68/100\n",
            "700/700 [==============================] - 1s 1ms/step - loss: 0.3961 - accuracy: 0.8353\n",
            "Epoch 69/100\n",
            "700/700 [==============================] - 1s 1ms/step - loss: 0.4051 - accuracy: 0.8351\n",
            "Epoch 70/100\n",
            "700/700 [==============================] - 1s 1ms/step - loss: 0.3842 - accuracy: 0.8446\n",
            "Epoch 71/100\n",
            "700/700 [==============================] - 1s 1ms/step - loss: 0.3817 - accuracy: 0.8483\n",
            "Epoch 72/100\n",
            "700/700 [==============================] - 1s 1ms/step - loss: 0.3981 - accuracy: 0.8351\n",
            "Epoch 73/100\n",
            "700/700 [==============================] - 1s 1ms/step - loss: 0.3809 - accuracy: 0.8453\n",
            "Epoch 74/100\n",
            "700/700 [==============================] - 1s 1ms/step - loss: 0.4065 - accuracy: 0.8326\n",
            "Epoch 75/100\n",
            "700/700 [==============================] - 1s 1ms/step - loss: 0.4002 - accuracy: 0.8332\n",
            "Epoch 76/100\n",
            "700/700 [==============================] - 1s 1ms/step - loss: 0.3918 - accuracy: 0.8387\n",
            "Epoch 77/100\n",
            "700/700 [==============================] - 1s 1ms/step - loss: 0.3890 - accuracy: 0.8384\n",
            "Epoch 78/100\n",
            "700/700 [==============================] - 1s 1ms/step - loss: 0.3954 - accuracy: 0.8369\n",
            "Epoch 79/100\n",
            "700/700 [==============================] - 1s 1ms/step - loss: 0.3831 - accuracy: 0.8433\n",
            "Epoch 80/100\n",
            "700/700 [==============================] - 1s 1ms/step - loss: 0.3943 - accuracy: 0.8422\n",
            "Epoch 81/100\n",
            "700/700 [==============================] - 1s 1ms/step - loss: 0.3865 - accuracy: 0.8400\n",
            "Epoch 82/100\n",
            "700/700 [==============================] - 1s 1ms/step - loss: 0.3981 - accuracy: 0.8357\n",
            "Epoch 83/100\n",
            "700/700 [==============================] - 1s 1ms/step - loss: 0.3955 - accuracy: 0.8402\n",
            "Epoch 84/100\n",
            "700/700 [==============================] - 1s 1ms/step - loss: 0.4082 - accuracy: 0.8321\n",
            "Epoch 85/100\n",
            "700/700 [==============================] - 1s 1ms/step - loss: 0.4064 - accuracy: 0.8327\n",
            "Epoch 86/100\n",
            "700/700 [==============================] - 1s 1ms/step - loss: 0.4022 - accuracy: 0.8352\n",
            "Epoch 87/100\n",
            "700/700 [==============================] - 1s 1ms/step - loss: 0.3790 - accuracy: 0.8429\n",
            "Epoch 88/100\n",
            "700/700 [==============================] - 1s 1ms/step - loss: 0.4188 - accuracy: 0.8272\n",
            "Epoch 89/100\n",
            "700/700 [==============================] - 1s 1ms/step - loss: 0.3942 - accuracy: 0.8373\n",
            "Epoch 90/100\n",
            "700/700 [==============================] - 1s 1ms/step - loss: 0.3966 - accuracy: 0.8333\n",
            "Epoch 91/100\n",
            "700/700 [==============================] - 1s 1ms/step - loss: 0.3746 - accuracy: 0.8421\n",
            "Epoch 92/100\n",
            "700/700 [==============================] - 1s 1ms/step - loss: 0.3915 - accuracy: 0.8372\n",
            "Epoch 93/100\n",
            "700/700 [==============================] - 1s 1ms/step - loss: 0.3981 - accuracy: 0.8341\n",
            "Epoch 94/100\n",
            "700/700 [==============================] - 1s 1ms/step - loss: 0.3985 - accuracy: 0.8326\n",
            "Epoch 95/100\n",
            "700/700 [==============================] - 1s 1ms/step - loss: 0.3996 - accuracy: 0.8344\n",
            "Epoch 96/100\n",
            "700/700 [==============================] - 1s 1ms/step - loss: 0.3936 - accuracy: 0.8367\n",
            "Epoch 97/100\n",
            "700/700 [==============================] - 1s 1ms/step - loss: 0.3958 - accuracy: 0.8313\n",
            "Epoch 98/100\n",
            "700/700 [==============================] - 1s 1ms/step - loss: 0.3923 - accuracy: 0.8408\n",
            "Epoch 99/100\n",
            "700/700 [==============================] - 1s 1ms/step - loss: 0.3927 - accuracy: 0.8362\n",
            "Epoch 100/100\n",
            "700/700 [==============================] - 1s 1ms/step - loss: 0.3866 - accuracy: 0.8434\n"
          ],
          "name": "stdout"
        }
      ]
    },
    {
      "cell_type": "code",
      "metadata": {
        "id": "FDK9V-5-lrwE"
      },
      "source": [
        "#evaluate the model \r\n",
        "model.evaluate(x_test,y_test)\r\n"
      ],
      "execution_count": null,
      "outputs": []
    },
    {
      "cell_type": "code",
      "metadata": {
        "id": "8yT2BGWHmFls"
      },
      "source": [
        "#predict \r\n",
        "y_pred=model.predict(x_test)\r\n",
        "y_pred=(y_pred>0.5)\r\n",
        "print(y_pred)"
      ],
      "execution_count": null,
      "outputs": []
    },
    {
      "cell_type": "code",
      "metadata": {
        "id": "N_LrgYMmmrTC"
      },
      "source": [
        "#predict using our model for a new costumer;will he stay at the bank or will he leave the bank \r\n",
        "costumer=[[0,0,600,1,40,3,6000,2,1,1,50000]]\r\n",
        "costumer=sc.transform(costumer)\r\n",
        "new=model.predict(costumer)\r\n",
        "new=(new>0.5)\r\n",
        "print(new)\r\n"
      ],
      "execution_count": null,
      "outputs": []
    },
    {
      "cell_type": "code",
      "metadata": {
        "id": "CBZnDFhmnrCL"
      },
      "source": [
        "#plotting the model accuracy throughout the epochs\r\n",
        "from matplotlib import pyplot as plt \r\n",
        "plt.plot(history.history['accuracy'])\r\n",
        "plt.title('model accuracy')\r\n",
        "plt.ylabel('accuracy')\r\n",
        "plt.xlabel('epoch')\r\n",
        "plt.show()"
      ],
      "execution_count": null,
      "outputs": []
    }
  ]
}