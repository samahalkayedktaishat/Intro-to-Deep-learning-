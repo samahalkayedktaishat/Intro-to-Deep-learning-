{
  "nbformat": 4,
  "nbformat_minor": 0,
  "metadata": {
    "kernelspec": {
      "display_name": "Python 3",
      "language": "python",
      "name": "python3"
    },
    "language_info": {
      "codemirror_mode": {
        "name": "ipython",
        "version": 3
      },
      "file_extension": ".py",
      "mimetype": "text/x-python",
      "name": "python",
      "nbconvert_exporter": "python",
      "pygments_lexer": "ipython3",
      "version": "3.6.5"
    },
    "latex_envs": {
      "LaTeX_envs_menu_present": true,
      "autoclose": false,
      "autocomplete": true,
      "bibliofile": "biblio.bib",
      "cite_by": "apalike",
      "current_citInitial": 1,
      "eqLabelWithNumbers": true,
      "eqNumInitial": 1,
      "hotkeys": {
        "equation": "Ctrl-E",
        "itemize": "Ctrl-I"
      },
      "labels_anchors": false,
      "latex_user_defs": false,
      "report_style_numbering": false,
      "user_envs_cfg": false
    },
    "colab": {
      "name": "bank_teller_project.ipynb",
      "provenance": [],
      "collapsed_sections": [],
      "history_visible": true,
      "include_colab_link": true
    }
  },
  "cells": [
    {
      "cell_type": "markdown",
      "metadata": {
        "id": "view-in-github",
        "colab_type": "text"
      },
      "source": [
        "<a href=\"https://colab.research.google.com/github/samahalkayedktaishat/Intro-to-Deep-learning-/blob/main/bank_teller_project.ipynb\" target=\"_parent\"><img src=\"https://colab.research.google.com/assets/colab-badge.svg\" alt=\"Open In Colab\"/></a>"
      ]
    },
    {
      "cell_type": "markdown",
      "metadata": {
        "id": "5u7wNcvW2Epk"
      },
      "source": [
        "# Bank Teller\n"
      ]
    },
    {
      "cell_type": "markdown",
      "metadata": {
        "id": "c7tDjQXs2Epn"
      },
      "source": [
        "In this project you will be implementing code that emulates transactions performed between a bank-teller and a customer. "
      ]
    },
    {
      "cell_type": "markdown",
      "metadata": {
        "id": "Ziid1LI72Epo"
      },
      "source": [
        "The prerequisites for this project are Python 3 syntax, functions and control flow. Let's jump right into it!"
      ]
    },
    {
      "cell_type": "markdown",
      "metadata": {
        "id": "q8pY0JHa2Epo"
      },
      "source": [
        "### 1. Initializing savings and checking account values. \n",
        "\n"
      ]
    },
    {
      "cell_type": "code",
      "metadata": {
        "id": "kWLu9FgH2Epo"
      },
      "source": [
        "checking_balance = 0\n",
        "savings_balance = 0 "
      ],
      "execution_count": 39,
      "outputs": []
    },
    {
      "cell_type": "markdown",
      "metadata": {
        "id": "-wp8pNgW2Epp"
      },
      "source": [
        "### 2. Create a function to check the Balance\n",
        "\n"
      ]
    },
    {
      "cell_type": "code",
      "metadata": {
        "id": "7mFVeNfo2Epp"
      },
      "source": [
        "def check_balance(account_type, checking_balance ,savings_balance) :\n",
        "  if account_type == \"savings\":\n",
        "    balance = savings_balance \n",
        "    balance_statement = \"Your \"+ account_type +\" balance is \" + str(balance) \n",
        "  elif account_type == \"checking\":\n",
        "    balance = checking_balance \n",
        "    balance_statement = \"Your \"+ account_type +\" balance is \" + str(balance) \n",
        "  else :\n",
        "    print(\"Unsuccessful, please enter \\\"checking\\\" or \\\"savings\\\"\")\n",
        "\n",
        "  return balance_statement \n",
        "\n",
        "\n",
        "\n",
        "\n",
        "\n"
      ],
      "execution_count": 40,
      "outputs": []
    },
    {
      "cell_type": "markdown",
      "metadata": {
        "id": "FLUa8vxG2Epq"
      },
      "source": [
        "### 3. Calling and Printing the check_balance() function for Checking Account"
      ]
    },
    {
      "cell_type": "markdown",
      "metadata": {
        "id": "nQKRh-0A2Epq"
      },
      "source": [
        ""
      ]
    },
    {
      "cell_type": "code",
      "metadata": {
        "colab": {
          "base_uri": "https://localhost:8080/"
        },
        "id": "ivaIHGmr2Epq",
        "outputId": "77e3071f-5dc5-4cf0-9d27-aa94a61786ed"
      },
      "source": [
        "print(check_balance(\"checking\", checking_balance ,savings_balance))\n"
      ],
      "execution_count": 41,
      "outputs": [
        {
          "output_type": "stream",
          "name": "stdout",
          "text": [
            "Your checking balance is 0\n"
          ]
        }
      ]
    },
    {
      "cell_type": "markdown",
      "metadata": {
        "id": "93F8XHjh2Epr"
      },
      "source": [
        "### 4. Calling and Printing the check_balance() function for Savings Account"
      ]
    },
    {
      "cell_type": "markdown",
      "metadata": {
        "id": "jc3Dawmd2Epr"
      },
      "source": [
        ""
      ]
    },
    {
      "cell_type": "code",
      "metadata": {
        "colab": {
          "base_uri": "https://localhost:8080/"
        },
        "id": "-obYr3fe2Epr",
        "outputId": "79cfc926-e057-4ce5-c62a-5ea1ee2f524c"
      },
      "source": [
        "print(check_balance(\"savings\", checking_balance ,savings_balance))"
      ],
      "execution_count": 42,
      "outputs": [
        {
          "output_type": "stream",
          "name": "stdout",
          "text": [
            "Your savings balance is 0\n"
          ]
        }
      ]
    },
    {
      "cell_type": "markdown",
      "metadata": {
        "id": "0DBURY5b2Epr"
      },
      "source": [
        "### 5. Create a function to make a deposit\n",
        "\n",
        "\n"
      ]
    },
    {
      "cell_type": "code",
      "metadata": {
        "id": "AFmTeXaI2Eps"
      },
      "source": [
        "\n",
        "def make_deposit(account_type, amount, checking_balance, savings_balance):\n",
        "  deposit_status = \"\"\n",
        "  \n",
        "  if amount > 0 :\n",
        "    \n",
        "    if account_type == \"savings\":\n",
        "      \n",
        "      savings_balance += amount \n",
        "      deposit_status = 'successful'\n",
        "\n",
        "    elif account_type == \"checking\":\n",
        "      checking_balance += amount\n",
        "      deposit_status = 'successful' \n",
        "\n",
        "    else:\n",
        "     deposit_status = \"Unsuccessful, please enter \\\"checking\\\" or \\\"savings\\\"\"\n",
        "\n",
        "  else :\n",
        "    deposit_status = \"unsuccessful, please enter an amount greater than 0\"\n",
        "  \n",
        "\n",
        "  deposit_statement = \"Deposit of \"+ str(amount) + \" to your \" + account_type + \" account was \" + deposit_status \n",
        "  print(deposit_statement)\n",
        "\n",
        "  return savings_balance , checking_balance \n",
        "\n",
        "\n",
        "  \n",
        "\n",
        "\n"
      ],
      "execution_count": 43,
      "outputs": []
    },
    {
      "cell_type": "markdown",
      "metadata": {
        "id": "yz-1wJxI2Ept"
      },
      "source": [
        "### 6. Call deposit function and make a savings deposit\n",
        "\n"
      ]
    },
    {
      "cell_type": "code",
      "metadata": {
        "colab": {
          "base_uri": "https://localhost:8080/"
        },
        "id": "OjLSMmac2Ept",
        "outputId": "9dbb9b5b-87fc-4f15-c48f-e0055b82d5a8"
      },
      "source": [
        "savings_balance , checking_balance  = make_deposit(\"savings\", 10 , checking_balance , savings_balance) "
      ],
      "execution_count": 44,
      "outputs": [
        {
          "output_type": "stream",
          "name": "stdout",
          "text": [
            "Deposit of 10 to your savings account was successful\n"
          ]
        }
      ]
    },
    {
      "cell_type": "markdown",
      "metadata": {
        "id": "ry5SN9wa2Ept"
      },
      "source": [
        "### 7. Print savings balance call after making a savings deposit\n",
        "\n"
      ]
    },
    {
      "cell_type": "code",
      "metadata": {
        "colab": {
          "base_uri": "https://localhost:8080/"
        },
        "id": "3yL7ZPCP2Ept",
        "outputId": "da2a5f20-ba77-4e08-ec4f-648599f61e78"
      },
      "source": [
        "print(check_balance(\"savings\" ,checking_balance , savings_balance )) "
      ],
      "execution_count": 45,
      "outputs": [
        {
          "output_type": "stream",
          "name": "stdout",
          "text": [
            "Your savings balance is 10\n"
          ]
        }
      ]
    },
    {
      "cell_type": "markdown",
      "metadata": {
        "id": "m2VZHZfP2Epu"
      },
      "source": [
        "### 8. Call deposit function and make a checking deposit\n",
        " "
      ]
    },
    {
      "cell_type": "code",
      "metadata": {
        "colab": {
          "base_uri": "https://localhost:8080/"
        },
        "id": "m7BPJRgx2Epu",
        "outputId": "73aa7d07-881c-4140-f9e3-60b2f2c34876"
      },
      "source": [
        "savings_balance , checking_balance = make_deposit(\"checking\", 200,checking_balance ,savings_balance) "
      ],
      "execution_count": 46,
      "outputs": [
        {
          "output_type": "stream",
          "name": "stdout",
          "text": [
            "Deposit of 200 to your checking account was successful\n"
          ]
        }
      ]
    },
    {
      "cell_type": "markdown",
      "metadata": {
        "id": "frsPE14j2Epu"
      },
      "source": [
        "### 9. Print checking balance call after making a checking deposit\n"
      ]
    },
    {
      "cell_type": "code",
      "metadata": {
        "colab": {
          "base_uri": "https://localhost:8080/"
        },
        "id": "oH4XakVO2Epu",
        "outputId": "3a9e3dfd-73d5-4ede-af93-8a65dded85ac"
      },
      "source": [
        "print(check_balance(\"checking\", checking_balance, savings_balance))"
      ],
      "execution_count": 47,
      "outputs": [
        {
          "output_type": "stream",
          "name": "stdout",
          "text": [
            "Your checking balance is 200\n"
          ]
        }
      ]
    },
    {
      "cell_type": "markdown",
      "metadata": {
        "id": "1rOMrbMV2Epu"
      },
      "source": [
        "### 10. Create a function to make a withdrawal\n",
        "\n"
      ]
    },
    {
      "cell_type": "code",
      "metadata": {
        "id": "drUJ4Ouj2Epv"
      },
      "source": [
        "def make_withdrawal(account_type, amount, checking_balance,savings_balance):\n",
        "  withdrawal_status = \"\"\n",
        "  fail = \"unsuccessful, please enter amount less than balance\"\n",
        "  if account_type == \"savings\" :\n",
        "    if amount > savings_balance :\n",
        "      withdrawal_status = fail \n",
        "    else:\n",
        "      savings_balance -= amount \n",
        "      withdrawal_status = \"successful\"\n",
        "\n",
        "    \n",
        "  elif account_type == \"checking\":\n",
        "    if amount > checking_balance : \n",
        "      withdrawal_status = fail \n",
        "    else:\n",
        "      checking_balance -= amount \n",
        "      withdrawal_status = \"successful\" \n",
        "\n",
        "  else:\n",
        "    withdrawal_status = \"Unsuccessful, please enter \\\"checking\\\" or \\\"savings\\\"\" \n",
        "\n",
        "  withdrawal_statement = \"Withdrawal of \" + str(amount) +\" from your \" +  account_type + \" was \" + withdrawal_status\n",
        "  print( withdrawal_statement)\n",
        "\n",
        "  return savings_balance , checking_balance \n",
        "\n"
      ],
      "execution_count": 50,
      "outputs": []
    },
    {
      "cell_type": "markdown",
      "metadata": {
        "id": "snBCV2Tj2Epv"
      },
      "source": [
        "### 11. Call withdrawal function and make a savings withdrawal\n",
        "\n"
      ]
    },
    {
      "cell_type": "code",
      "metadata": {
        "colab": {
          "base_uri": "https://localhost:8080/"
        },
        "id": "l9PNQq1_2Epv",
        "outputId": "b46cee32-15ce-439f-f75f-4de3825e003a"
      },
      "source": [
        "savings_balance , checking_balance  = make_withdrawal(\"savings\", 11, checking_balance, savings_balance)"
      ],
      "execution_count": 51,
      "outputs": [
        {
          "output_type": "stream",
          "name": "stdout",
          "text": [
            "Withdrawal of 11 from your savings was unsuccessful, please enter amount less than balance\n"
          ]
        }
      ]
    },
    {
      "cell_type": "markdown",
      "metadata": {
        "id": "Vh2nDIDQ2Epv"
      },
      "source": [
        "### 12. Print savings balance call, after making a savings withdrawal\n"
      ]
    },
    {
      "cell_type": "code",
      "metadata": {
        "colab": {
          "base_uri": "https://localhost:8080/"
        },
        "id": "WWq5DUPs2Epv",
        "outputId": "57623b31-6059-4d38-9c3c-d2da2a898cc3"
      },
      "source": [
        "print(check_balance(\"savings\", checking_balance , savings_balance))"
      ],
      "execution_count": 52,
      "outputs": [
        {
          "output_type": "stream",
          "name": "stdout",
          "text": [
            "Your savings balance is 10\n"
          ]
        }
      ]
    },
    {
      "cell_type": "markdown",
      "metadata": {
        "id": "aQ7C_YFR2Epw"
      },
      "source": [
        "### 13. Call withdrawal function and make a checking withdrawal\n",
        "\n"
      ]
    },
    {
      "cell_type": "code",
      "metadata": {
        "colab": {
          "base_uri": "https://localhost:8080/"
        },
        "id": "9Ee5J_ez2Epw",
        "outputId": "02e865e3-4da9-48e0-8974-9564a1b0b98e"
      },
      "source": [
        "savings_balance , checking_balance  = make_withdrawal( \"checking\", 170, checking_balance, savings_balance) "
      ],
      "execution_count": 53,
      "outputs": [
        {
          "output_type": "stream",
          "name": "stdout",
          "text": [
            "Withdrawal of 170 from your checking was successful\n"
          ]
        }
      ]
    },
    {
      "cell_type": "markdown",
      "metadata": {
        "id": "iCRd2g012Epw"
      },
      "source": [
        "### 14. Print checking balance call, after making a checking withdrawal\n",
        "\n"
      ]
    },
    {
      "cell_type": "code",
      "metadata": {
        "colab": {
          "base_uri": "https://localhost:8080/"
        },
        "id": "QvtiYtjy2Epw",
        "outputId": "3ad8e724-2769-4995-9f12-cf0644750cbf"
      },
      "source": [
        "print(check_balance(\"checking\", checking_balance , savings_balance))"
      ],
      "execution_count": 54,
      "outputs": [
        {
          "output_type": "stream",
          "name": "stdout",
          "text": [
            "Your checking balance is 30\n"
          ]
        }
      ]
    },
    {
      "cell_type": "markdown",
      "metadata": {
        "id": "c4-Kwzaf2Epw"
      },
      "source": [
        "### 15. Create a function to make a transfer between accounts\n",
        "\n",
        "\n"
      ]
    },
    {
      "cell_type": "code",
      "metadata": {
        "id": "Zh6Av5sF2Epw"
      },
      "source": [
        "def acc_transfer(acc_from, acc_to, amount, checking_balance, savings_balance):\n",
        "  transaction_status = \"\"\n",
        "  trans_error = \"unsuccessful, please enter amount less than \"\n",
        "  if acc_from == \"savings\" and acc_to == \"checking\":\n",
        "    if amount > savings_balance :\n",
        "      transaction_status = trans_error + str(savings_balance)\n",
        "    else:\n",
        "      savings_balance -= amount\n",
        "      checking_balance += amount \n",
        "      transaction_status = \"successful\"\n",
        "\n",
        "  elif acc_from == \"checking\" and acc_to == \"savings\":\n",
        "    if amount > checking_balance :\n",
        "      transaction_status = trans_error + str( checking_balance)\n",
        "    else :\n",
        "      checking_balance -= amount \n",
        "      savings_balance += amount\n",
        "      transaction_status = \"successful\" \n",
        "\n",
        "\n",
        "  else:\n",
        "\n",
        "    transaction_status = \"error\"\n",
        "\n",
        "  transaction_statement = \"Transfer of \" + str(amount) + \" from your \" + acc_from +\" to your \" + acc_to + \" account was \" +  transaction_status\n",
        "  print(transaction_statement)\n",
        "  return  savings_balance , checking_balance \n"
      ],
      "execution_count": 56,
      "outputs": []
    },
    {
      "cell_type": "markdown",
      "metadata": {
        "id": "DNwwZnii2Epx"
      },
      "source": [
        "### 16. Call transfer function and make a checking to savings transfer\n",
        "\n",
        " "
      ]
    },
    {
      "cell_type": "code",
      "metadata": {
        "colab": {
          "base_uri": "https://localhost:8080/"
        },
        "id": "vozg1K6Y2Epx",
        "outputId": "1a389ef6-9f32-4360-fd49-3cde7145adf7"
      },
      "source": [
        "savings_balance , checking_balance = acc_transfer(\"checking\", \"savings\", 40,checking_balance, savings_balance) "
      ],
      "execution_count": 57,
      "outputs": [
        {
          "output_type": "stream",
          "name": "stdout",
          "text": [
            "Transfer of 40 from your checking to your savings account was unsuccessful, please enter amount less than 30\n"
          ]
        }
      ]
    },
    {
      "cell_type": "markdown",
      "metadata": {
        "id": "LtM0ErMJ2Epx"
      },
      "source": [
        "### 17. Print checking balance after making a checking to savings transfer\n"
      ]
    },
    {
      "cell_type": "code",
      "metadata": {
        "colab": {
          "base_uri": "https://localhost:8080/"
        },
        "id": "Upj1rqaX2Epx",
        "outputId": "182d6cd0-fb2b-45bb-8b9c-c2d81141bc1d"
      },
      "source": [
        "print(check_balance(\"checking\", checking_balance,savings_balance))"
      ],
      "execution_count": 58,
      "outputs": [
        {
          "output_type": "stream",
          "name": "stdout",
          "text": [
            "Your checking balance is 30\n"
          ]
        }
      ]
    },
    {
      "cell_type": "markdown",
      "metadata": {
        "id": "5MbTI65j2Epx"
      },
      "source": [
        "### 18. Print savings balance after making a checking to savings transfer\n",
        "\n"
      ]
    },
    {
      "cell_type": "code",
      "metadata": {
        "colab": {
          "base_uri": "https://localhost:8080/"
        },
        "id": "PSDXsr1S2Epy",
        "outputId": "8fb4051e-fb71-411c-d6a9-1d687dfb62a1"
      },
      "source": [
        "print(check_balance(\"savings\", checking_balance,savings_balance))"
      ],
      "execution_count": 59,
      "outputs": [
        {
          "output_type": "stream",
          "name": "stdout",
          "text": [
            "Your savings balance is 10\n"
          ]
        }
      ]
    },
    {
      "cell_type": "markdown",
      "metadata": {
        "id": "aNUoR8p_2Epy"
      },
      "source": [
        "### 19. Call transfer function and make a savings to checking transfer\n",
        "\n",
        "\n"
      ]
    },
    {
      "cell_type": "code",
      "metadata": {
        "colab": {
          "base_uri": "https://localhost:8080/"
        },
        "id": "stlr_uwY2Epy",
        "outputId": "f659c448-5247-4612-9f8b-7f4078cef97e"
      },
      "source": [
        "savings_balance , checking_balance = acc_transfer(\"savings\", \"checking\", 5,checking_balance ,savings_balance)"
      ],
      "execution_count": 60,
      "outputs": [
        {
          "output_type": "stream",
          "name": "stdout",
          "text": [
            "Transfer of 5 from your savings to your checking account was successful\n"
          ]
        }
      ]
    },
    {
      "cell_type": "markdown",
      "metadata": {
        "id": "48X2KMhE2Epy"
      },
      "source": [
        "### 20. Print checking balance after making a savings to checking transfer\n",
        "\n"
      ]
    },
    {
      "cell_type": "code",
      "metadata": {
        "colab": {
          "base_uri": "https://localhost:8080/"
        },
        "id": "lp8DIWnh2Epy",
        "outputId": "b4cead93-12eb-44b6-a0f8-eb4a7b9528fd"
      },
      "source": [
        "print(check_balance(\"checking\", checking_balance , savings_balance))"
      ],
      "execution_count": 61,
      "outputs": [
        {
          "output_type": "stream",
          "name": "stdout",
          "text": [
            "Your checking balance is 35\n"
          ]
        }
      ]
    },
    {
      "cell_type": "markdown",
      "metadata": {
        "id": "uYKLMu5E2Epy"
      },
      "source": [
        "### 21. Print saving balance after making a savings to checking transfer\n"
      ]
    },
    {
      "cell_type": "code",
      "metadata": {
        "colab": {
          "base_uri": "https://localhost:8080/"
        },
        "id": "66_Pfu2x2Epz",
        "outputId": "80a2f55f-8919-46a1-ebf1-925c85bc9a40"
      },
      "source": [
        "print(check_balance(\"savings\", checking_balance , savings_balance))"
      ],
      "execution_count": 62,
      "outputs": [
        {
          "output_type": "stream",
          "name": "stdout",
          "text": [
            "Your savings balance is 5\n"
          ]
        }
      ]
    }
  ]
}