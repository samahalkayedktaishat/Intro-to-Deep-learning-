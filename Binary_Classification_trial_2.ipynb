{
  "nbformat": 4,
  "nbformat_minor": 0,
  "metadata": {
    "colab": {
      "name": "Binary Classification trial 2",
      "provenance": [],
      "collapsed_sections": []
    },
    "kernelspec": {
      "name": "python3",
      "display_name": "Python 3"
    }
  },
  "cells": [
    {
      "cell_type": "code",
      "metadata": {
        "colab": {
          "base_uri": "https://localhost:8080/"
        },
        "id": "EAWLN5gvrNy9",
        "outputId": "b2088fc9-2a09-4fda-d1dc-5d3de5d8feaa"
      },
      "source": [
        "#mounting the drive\r\n",
        "from google.colab import drive\r\n",
        "drive.mount('/content/mydrive')"
      ],
      "execution_count": null,
      "outputs": [
        {
          "output_type": "stream",
          "text": [
            "Mounted at /content/mydrive\n"
          ],
          "name": "stdout"
        }
      ]
    },
    {
      "cell_type": "code",
      "metadata": {
        "colab": {
          "base_uri": "https://localhost:8080/"
        },
        "id": "mqFQz0fJiLmr",
        "outputId": "0175230e-725f-4a52-ba76-ae048e9b0b84"
      },
      "source": [
        "!nvidia-smi"
      ],
      "execution_count": null,
      "outputs": [
        {
          "output_type": "stream",
          "text": [
            "NVIDIA-SMI has failed because it couldn't communicate with the NVIDIA driver. Make sure that the latest NVIDIA driver is installed and running.\n",
            "\n"
          ],
          "name": "stdout"
        }
      ]
    },
    {
      "cell_type": "code",
      "metadata": {
        "colab": {
          "base_uri": "https://localhost:8080/"
        },
        "id": "JwGarw_yrQq9",
        "outputId": "0d875452-08a4-428e-e5c6-abf9c8d953eb"
      },
      "source": [
        "#reading the csv file\r\n",
        "import pandas as pd \r\n",
        "df=pd.read_csv('/content/mydrive/MyDrive/Churn_Modelling.csv')\r\n",
        "print(df)"
      ],
      "execution_count": null,
      "outputs": [
        {
          "output_type": "stream",
          "text": [
            "      RowNumber  CustomerId    Surname  ...  IsActiveMember EstimatedSalary Exited\n",
            "0             1    15634602   Hargrave  ...               1       101348.88      1\n",
            "1             2    15647311       Hill  ...               1       112542.58      0\n",
            "2             3    15619304       Onio  ...               0       113931.57      1\n",
            "3             4    15701354       Boni  ...               0        93826.63      0\n",
            "4             5    15737888   Mitchell  ...               1        79084.10      0\n",
            "...         ...         ...        ...  ...             ...             ...    ...\n",
            "9995       9996    15606229   Obijiaku  ...               0        96270.64      0\n",
            "9996       9997    15569892  Johnstone  ...               1       101699.77      0\n",
            "9997       9998    15584532        Liu  ...               1        42085.58      1\n",
            "9998       9999    15682355  Sabbatini  ...               0        92888.52      1\n",
            "9999      10000    15628319     Walker  ...               0        38190.78      0\n",
            "\n",
            "[10000 rows x 14 columns]\n"
          ],
          "name": "stdout"
        }
      ]
    },
    {
      "cell_type": "code",
      "metadata": {
        "colab": {
          "base_uri": "https://localhost:8080/"
        },
        "id": "pByDM7e7rUKm",
        "outputId": "677d37c3-dd0e-468d-85a6-8f0bc70511cd"
      },
      "source": [
        "#preparing the explanatory variables and the dependent variable\r\n",
        "x=df.iloc[:,3:13]\r\n",
        "y=df['Exited']\r\n",
        "print(x)\r\n",
        "x.info()"
      ],
      "execution_count": null,
      "outputs": [
        {
          "output_type": "stream",
          "text": [
            "      CreditScore Geography  Gender  ...  HasCrCard  IsActiveMember  EstimatedSalary\n",
            "0             619    France  Female  ...          1               1        101348.88\n",
            "1             608     Spain  Female  ...          0               1        112542.58\n",
            "2             502    France  Female  ...          1               0        113931.57\n",
            "3             699    France  Female  ...          0               0         93826.63\n",
            "4             850     Spain  Female  ...          1               1         79084.10\n",
            "...           ...       ...     ...  ...        ...             ...              ...\n",
            "9995          771    France    Male  ...          1               0         96270.64\n",
            "9996          516    France    Male  ...          1               1        101699.77\n",
            "9997          709    France  Female  ...          0               1         42085.58\n",
            "9998          772   Germany    Male  ...          1               0         92888.52\n",
            "9999          792    France  Female  ...          1               0         38190.78\n",
            "\n",
            "[10000 rows x 10 columns]\n",
            "<class 'pandas.core.frame.DataFrame'>\n",
            "RangeIndex: 10000 entries, 0 to 9999\n",
            "Data columns (total 10 columns):\n",
            " #   Column           Non-Null Count  Dtype  \n",
            "---  ------           --------------  -----  \n",
            " 0   CreditScore      10000 non-null  int64  \n",
            " 1   Geography        10000 non-null  object \n",
            " 2   Gender           10000 non-null  object \n",
            " 3   Age              10000 non-null  int64  \n",
            " 4   Tenure           10000 non-null  int64  \n",
            " 5   Balance          10000 non-null  float64\n",
            " 6   NumOfProducts    10000 non-null  int64  \n",
            " 7   HasCrCard        10000 non-null  int64  \n",
            " 8   IsActiveMember   10000 non-null  int64  \n",
            " 9   EstimatedSalary  10000 non-null  float64\n",
            "dtypes: float64(2), int64(6), object(2)\n",
            "memory usage: 781.4+ KB\n"
          ],
          "name": "stdout"
        }
      ]
    },
    {
      "cell_type": "code",
      "metadata": {
        "colab": {
          "base_uri": "https://localhost:8080/"
        },
        "id": "K335AL00rW_I",
        "outputId": "134e923f-501e-4038-8343-cb46b3dcbaad"
      },
      "source": [
        "#encoding the Gender column in x \r\n",
        "from sklearn.preprocessing import LabelEncoder\r\n",
        "label_encoder=LabelEncoder()\r\n",
        "x.iloc[:,2]=label_encoder.fit_transform(x.iloc[:,2])\r\n",
        "print(x)"
      ],
      "execution_count": null,
      "outputs": [
        {
          "output_type": "stream",
          "text": [
            "      CreditScore Geography  Gender  ...  HasCrCard  IsActiveMember  EstimatedSalary\n",
            "0             619    France       0  ...          1               1        101348.88\n",
            "1             608     Spain       0  ...          0               1        112542.58\n",
            "2             502    France       0  ...          1               0        113931.57\n",
            "3             699    France       0  ...          0               0         93826.63\n",
            "4             850     Spain       0  ...          1               1         79084.10\n",
            "...           ...       ...     ...  ...        ...             ...              ...\n",
            "9995          771    France       1  ...          1               0         96270.64\n",
            "9996          516    France       1  ...          1               1        101699.77\n",
            "9997          709    France       0  ...          0               1         42085.58\n",
            "9998          772   Germany       1  ...          1               0         92888.52\n",
            "9999          792    France       0  ...          1               0         38190.78\n",
            "\n",
            "[10000 rows x 10 columns]\n"
          ],
          "name": "stdout"
        }
      ]
    },
    {
      "cell_type": "code",
      "metadata": {
        "colab": {
          "base_uri": "https://localhost:8080/"
        },
        "id": "z8IBBnjqrXpn",
        "outputId": "4ca9faf7-4269-4f2f-fa96-1bb97e9e4e83"
      },
      "source": [
        "#One hot encoding the Geography in x\r\n",
        "from sklearn.preprocessing import OneHotEncoder\r\n",
        "from sklearn.compose import ColumnTransformer\r\n",
        "import numpy as np\r\n",
        "Ohe=OneHotEncoder()\r\n",
        "ct=ColumnTransformer([('encoder',Ohe,[1])],remainder='passthrough')\r\n",
        "x=np.array(ct.fit_transform(x),dtype=np.float)\r\n",
        "x=pd.DataFrame(x)\r\n",
        "print(x)"
      ],
      "execution_count": null,
      "outputs": [
        {
          "output_type": "stream",
          "text": [
            "       0    1    2      3    4   ...         7    8    9    10         11\n",
            "0     1.0  0.0  0.0  619.0  0.0  ...       0.00  1.0  1.0  1.0  101348.88\n",
            "1     0.0  0.0  1.0  608.0  0.0  ...   83807.86  1.0  0.0  1.0  112542.58\n",
            "2     1.0  0.0  0.0  502.0  0.0  ...  159660.80  3.0  1.0  0.0  113931.57\n",
            "3     1.0  0.0  0.0  699.0  0.0  ...       0.00  2.0  0.0  0.0   93826.63\n",
            "4     0.0  0.0  1.0  850.0  0.0  ...  125510.82  1.0  1.0  1.0   79084.10\n",
            "...   ...  ...  ...    ...  ...  ...        ...  ...  ...  ...        ...\n",
            "9995  1.0  0.0  0.0  771.0  1.0  ...       0.00  2.0  1.0  0.0   96270.64\n",
            "9996  1.0  0.0  0.0  516.0  1.0  ...   57369.61  1.0  1.0  1.0  101699.77\n",
            "9997  1.0  0.0  0.0  709.0  0.0  ...       0.00  1.0  0.0  1.0   42085.58\n",
            "9998  0.0  1.0  0.0  772.0  1.0  ...   75075.31  2.0  1.0  0.0   92888.52\n",
            "9999  1.0  0.0  0.0  792.0  0.0  ...  130142.79  1.0  1.0  0.0   38190.78\n",
            "\n",
            "[10000 rows x 12 columns]\n"
          ],
          "name": "stdout"
        }
      ]
    },
    {
      "cell_type": "code",
      "metadata": {
        "colab": {
          "base_uri": "https://localhost:8080/"
        },
        "id": "BELVCgx8rbh2",
        "outputId": "d916f53b-d367-4472-e3f0-ccc78aea93df"
      },
      "source": [
        "#droping one columns of the one hot encoding array because they are correlated\r\n",
        "x=x.iloc[:,1:]\r\n",
        "print(x)"
      ],
      "execution_count": null,
      "outputs": [
        {
          "output_type": "stream",
          "text": [
            "       1    2      3    4     5     6          7    8    9    10         11\n",
            "0     0.0  0.0  619.0  0.0  42.0   2.0       0.00  1.0  1.0  1.0  101348.88\n",
            "1     0.0  1.0  608.0  0.0  41.0   1.0   83807.86  1.0  0.0  1.0  112542.58\n",
            "2     0.0  0.0  502.0  0.0  42.0   8.0  159660.80  3.0  1.0  0.0  113931.57\n",
            "3     0.0  0.0  699.0  0.0  39.0   1.0       0.00  2.0  0.0  0.0   93826.63\n",
            "4     0.0  1.0  850.0  0.0  43.0   2.0  125510.82  1.0  1.0  1.0   79084.10\n",
            "...   ...  ...    ...  ...   ...   ...        ...  ...  ...  ...        ...\n",
            "9995  0.0  0.0  771.0  1.0  39.0   5.0       0.00  2.0  1.0  0.0   96270.64\n",
            "9996  0.0  0.0  516.0  1.0  35.0  10.0   57369.61  1.0  1.0  1.0  101699.77\n",
            "9997  0.0  0.0  709.0  0.0  36.0   7.0       0.00  1.0  0.0  1.0   42085.58\n",
            "9998  1.0  0.0  772.0  1.0  42.0   3.0   75075.31  2.0  1.0  0.0   92888.52\n",
            "9999  0.0  0.0  792.0  0.0  28.0   4.0  130142.79  1.0  1.0  0.0   38190.78\n",
            "\n",
            "[10000 rows x 11 columns]\n"
          ],
          "name": "stdout"
        }
      ]
    },
    {
      "cell_type": "code",
      "metadata": {
        "id": "ATgEn77HrkVQ"
      },
      "source": [
        "#build the ANN model\r\n",
        "from tensorflow.keras.models import Sequential \r\n",
        "from tensorflow.keras.layers import Dense \r\n",
        "model=Sequential()\r\n",
        "model.add(Dense(6,activation='relu',input_shape=(11,),kernel_initializer='uniform'))\r\n",
        "model.add(Dense(6,activation='relu',kernel_initializer='uniform'))\r\n",
        "model.add(Dense(1,activation='sigmoid',kernel_initializer='uniform'))\r\n",
        "model.compile(optimizer='adam',loss='binary_crossentropy', metrics='accuracy')"
      ],
      "execution_count": null,
      "outputs": []
    },
    {
      "cell_type": "code",
      "metadata": {
        "id": "EnNgxw_KrpoT"
      },
      "source": [
        "#staderdize the data\r\n",
        "from sklearn.preprocessing import StandardScaler\r\n",
        "sc=StandardScaler()\r\n",
        "x=sc.fit_transform(x)\r\n",
        "\r\n"
      ],
      "execution_count": null,
      "outputs": []
    },
    {
      "cell_type": "code",
      "metadata": {
        "colab": {
          "base_uri": "https://localhost:8080/"
        },
        "id": "EBUvHTF3ufSI",
        "outputId": "c0ef59f3-34cb-47db-f117-de598e23e582"
      },
      "source": [
        "#training the model and splitting the data at the same step !\r\n",
        "history=model.fit(x,y,epochs=100,batch_size=10,validation_split=0.2)"
      ],
      "execution_count": null,
      "outputs": [
        {
          "output_type": "stream",
          "text": [
            "Epoch 1/100\n",
            "800/800 [==============================] - 2s 2ms/step - loss: 0.5916 - accuracy: 0.7937 - val_loss: 0.4307 - val_accuracy: 0.8050\n",
            "Epoch 2/100\n",
            "800/800 [==============================] - 1s 1ms/step - loss: 0.4208 - accuracy: 0.7981 - val_loss: 0.4259 - val_accuracy: 0.8050\n",
            "Epoch 3/100\n",
            "800/800 [==============================] - 1s 1ms/step - loss: 0.4158 - accuracy: 0.8043 - val_loss: 0.4207 - val_accuracy: 0.8270\n",
            "Epoch 4/100\n",
            "800/800 [==============================] - 1s 1ms/step - loss: 0.4036 - accuracy: 0.8373 - val_loss: 0.4163 - val_accuracy: 0.8330\n",
            "Epoch 5/100\n",
            "800/800 [==============================] - 1s 1ms/step - loss: 0.4139 - accuracy: 0.8296 - val_loss: 0.4120 - val_accuracy: 0.8335\n",
            "Epoch 6/100\n",
            "800/800 [==============================] - 1s 1ms/step - loss: 0.4071 - accuracy: 0.8334 - val_loss: 0.4107 - val_accuracy: 0.8310\n",
            "Epoch 7/100\n",
            "800/800 [==============================] - 1s 1ms/step - loss: 0.4009 - accuracy: 0.8379 - val_loss: 0.4070 - val_accuracy: 0.8340\n",
            "Epoch 8/100\n",
            "800/800 [==============================] - 1s 1ms/step - loss: 0.4008 - accuracy: 0.8383 - val_loss: 0.4073 - val_accuracy: 0.8325\n",
            "Epoch 9/100\n",
            "800/800 [==============================] - 1s 1ms/step - loss: 0.3891 - accuracy: 0.8402 - val_loss: 0.4074 - val_accuracy: 0.8285\n",
            "Epoch 10/100\n",
            "800/800 [==============================] - 1s 1ms/step - loss: 0.3927 - accuracy: 0.8408 - val_loss: 0.4052 - val_accuracy: 0.8340\n",
            "Epoch 11/100\n",
            "800/800 [==============================] - 1s 1ms/step - loss: 0.4143 - accuracy: 0.8253 - val_loss: 0.4062 - val_accuracy: 0.8355\n",
            "Epoch 12/100\n",
            "800/800 [==============================] - 1s 1ms/step - loss: 0.3893 - accuracy: 0.8397 - val_loss: 0.4043 - val_accuracy: 0.8340\n",
            "Epoch 13/100\n",
            "800/800 [==============================] - 1s 1ms/step - loss: 0.3863 - accuracy: 0.8415 - val_loss: 0.4063 - val_accuracy: 0.8355\n",
            "Epoch 14/100\n",
            "800/800 [==============================] - 1s 1ms/step - loss: 0.3830 - accuracy: 0.8405 - val_loss: 0.4058 - val_accuracy: 0.8320\n",
            "Epoch 15/100\n",
            "800/800 [==============================] - 1s 1ms/step - loss: 0.3925 - accuracy: 0.8356 - val_loss: 0.4066 - val_accuracy: 0.8310\n",
            "Epoch 16/100\n",
            "800/800 [==============================] - 1s 1ms/step - loss: 0.3941 - accuracy: 0.8377 - val_loss: 0.4054 - val_accuracy: 0.8305\n",
            "Epoch 17/100\n",
            "800/800 [==============================] - 1s 1ms/step - loss: 0.3777 - accuracy: 0.8447 - val_loss: 0.4039 - val_accuracy: 0.8340\n",
            "Epoch 18/100\n",
            "800/800 [==============================] - 1s 1ms/step - loss: 0.3800 - accuracy: 0.8423 - val_loss: 0.4056 - val_accuracy: 0.8330\n",
            "Epoch 19/100\n",
            "800/800 [==============================] - 1s 1ms/step - loss: 0.4004 - accuracy: 0.8340 - val_loss: 0.4073 - val_accuracy: 0.8345\n",
            "Epoch 20/100\n",
            "800/800 [==============================] - 1s 1ms/step - loss: 0.3797 - accuracy: 0.8415 - val_loss: 0.4072 - val_accuracy: 0.8325\n",
            "Epoch 21/100\n",
            "800/800 [==============================] - 1s 1ms/step - loss: 0.3958 - accuracy: 0.8341 - val_loss: 0.4064 - val_accuracy: 0.8305\n",
            "Epoch 22/100\n",
            "800/800 [==============================] - 1s 1ms/step - loss: 0.3814 - accuracy: 0.8419 - val_loss: 0.4054 - val_accuracy: 0.8335\n",
            "Epoch 23/100\n",
            "800/800 [==============================] - 1s 1ms/step - loss: 0.3833 - accuracy: 0.8425 - val_loss: 0.4003 - val_accuracy: 0.8350\n",
            "Epoch 24/100\n",
            "800/800 [==============================] - 1s 1ms/step - loss: 0.3753 - accuracy: 0.8445 - val_loss: 0.3881 - val_accuracy: 0.8450\n",
            "Epoch 25/100\n",
            "800/800 [==============================] - 1s 1ms/step - loss: 0.3640 - accuracy: 0.8503 - val_loss: 0.3751 - val_accuracy: 0.8455\n",
            "Epoch 26/100\n",
            "800/800 [==============================] - 1s 1ms/step - loss: 0.3670 - accuracy: 0.8496 - val_loss: 0.3647 - val_accuracy: 0.8505\n",
            "Epoch 27/100\n",
            "800/800 [==============================] - 1s 1ms/step - loss: 0.3545 - accuracy: 0.8559 - val_loss: 0.3585 - val_accuracy: 0.8500\n",
            "Epoch 28/100\n",
            "800/800 [==============================] - 1s 1ms/step - loss: 0.3491 - accuracy: 0.8549 - val_loss: 0.3560 - val_accuracy: 0.8535\n",
            "Epoch 29/100\n",
            "800/800 [==============================] - 1s 1ms/step - loss: 0.3542 - accuracy: 0.8541 - val_loss: 0.3523 - val_accuracy: 0.8560\n",
            "Epoch 30/100\n",
            "800/800 [==============================] - 1s 1ms/step - loss: 0.3305 - accuracy: 0.8694 - val_loss: 0.3506 - val_accuracy: 0.8600\n",
            "Epoch 31/100\n",
            "800/800 [==============================] - 1s 1ms/step - loss: 0.3452 - accuracy: 0.8613 - val_loss: 0.3512 - val_accuracy: 0.8585\n",
            "Epoch 32/100\n",
            "800/800 [==============================] - 1s 1ms/step - loss: 0.3360 - accuracy: 0.8669 - val_loss: 0.3494 - val_accuracy: 0.8580\n",
            "Epoch 33/100\n",
            "800/800 [==============================] - 1s 1ms/step - loss: 0.3396 - accuracy: 0.8620 - val_loss: 0.3501 - val_accuracy: 0.8585\n",
            "Epoch 34/100\n",
            "800/800 [==============================] - 1s 1ms/step - loss: 0.3435 - accuracy: 0.8589 - val_loss: 0.3488 - val_accuracy: 0.8595\n",
            "Epoch 35/100\n",
            "800/800 [==============================] - 1s 1ms/step - loss: 0.3324 - accuracy: 0.8636 - val_loss: 0.3504 - val_accuracy: 0.8560\n",
            "Epoch 36/100\n",
            "800/800 [==============================] - 1s 1ms/step - loss: 0.3481 - accuracy: 0.8591 - val_loss: 0.3484 - val_accuracy: 0.8595\n",
            "Epoch 37/100\n",
            "800/800 [==============================] - 1s 1ms/step - loss: 0.3382 - accuracy: 0.8608 - val_loss: 0.3502 - val_accuracy: 0.8585\n",
            "Epoch 38/100\n",
            "800/800 [==============================] - 1s 1ms/step - loss: 0.3333 - accuracy: 0.8667 - val_loss: 0.3500 - val_accuracy: 0.8575\n",
            "Epoch 39/100\n",
            "800/800 [==============================] - 1s 1ms/step - loss: 0.3309 - accuracy: 0.8665 - val_loss: 0.3514 - val_accuracy: 0.8580\n",
            "Epoch 40/100\n",
            "800/800 [==============================] - 1s 1ms/step - loss: 0.3193 - accuracy: 0.8742 - val_loss: 0.3530 - val_accuracy: 0.8535\n",
            "Epoch 41/100\n",
            "800/800 [==============================] - 1s 1ms/step - loss: 0.3328 - accuracy: 0.8696 - val_loss: 0.3517 - val_accuracy: 0.8560\n",
            "Epoch 42/100\n",
            "800/800 [==============================] - 1s 1ms/step - loss: 0.3414 - accuracy: 0.8634 - val_loss: 0.3502 - val_accuracy: 0.8560\n",
            "Epoch 43/100\n",
            "800/800 [==============================] - 1s 1ms/step - loss: 0.3239 - accuracy: 0.8709 - val_loss: 0.3506 - val_accuracy: 0.8565\n",
            "Epoch 44/100\n",
            "800/800 [==============================] - 1s 1ms/step - loss: 0.3277 - accuracy: 0.8683 - val_loss: 0.3525 - val_accuracy: 0.8590\n",
            "Epoch 45/100\n",
            "800/800 [==============================] - 1s 1ms/step - loss: 0.3297 - accuracy: 0.8659 - val_loss: 0.3509 - val_accuracy: 0.8580\n",
            "Epoch 46/100\n",
            "800/800 [==============================] - 1s 1ms/step - loss: 0.3362 - accuracy: 0.8641 - val_loss: 0.3482 - val_accuracy: 0.8595\n",
            "Epoch 47/100\n",
            "800/800 [==============================] - 1s 1ms/step - loss: 0.3304 - accuracy: 0.8653 - val_loss: 0.3498 - val_accuracy: 0.8565\n",
            "Epoch 48/100\n",
            "800/800 [==============================] - 1s 1ms/step - loss: 0.3287 - accuracy: 0.8687 - val_loss: 0.3495 - val_accuracy: 0.8610\n",
            "Epoch 49/100\n",
            "800/800 [==============================] - 1s 1ms/step - loss: 0.3233 - accuracy: 0.8681 - val_loss: 0.3490 - val_accuracy: 0.8600\n",
            "Epoch 50/100\n",
            "800/800 [==============================] - 1s 1ms/step - loss: 0.3255 - accuracy: 0.8669 - val_loss: 0.3480 - val_accuracy: 0.8560\n",
            "Epoch 51/100\n",
            "800/800 [==============================] - 1s 1ms/step - loss: 0.3310 - accuracy: 0.8647 - val_loss: 0.3469 - val_accuracy: 0.8615\n",
            "Epoch 52/100\n",
            "800/800 [==============================] - 1s 1ms/step - loss: 0.3206 - accuracy: 0.8674 - val_loss: 0.3479 - val_accuracy: 0.8575\n",
            "Epoch 53/100\n",
            "800/800 [==============================] - 1s 1ms/step - loss: 0.3292 - accuracy: 0.8659 - val_loss: 0.3497 - val_accuracy: 0.8615\n",
            "Epoch 54/100\n",
            "800/800 [==============================] - 1s 1ms/step - loss: 0.3367 - accuracy: 0.8640 - val_loss: 0.3523 - val_accuracy: 0.8575\n",
            "Epoch 55/100\n",
            "800/800 [==============================] - 1s 1ms/step - loss: 0.3235 - accuracy: 0.8676 - val_loss: 0.3480 - val_accuracy: 0.8570\n",
            "Epoch 56/100\n",
            "800/800 [==============================] - 1s 1ms/step - loss: 0.3311 - accuracy: 0.8670 - val_loss: 0.3490 - val_accuracy: 0.8570\n",
            "Epoch 57/100\n",
            "800/800 [==============================] - 1s 1ms/step - loss: 0.3296 - accuracy: 0.8717 - val_loss: 0.3466 - val_accuracy: 0.8545\n",
            "Epoch 58/100\n",
            "800/800 [==============================] - 1s 1ms/step - loss: 0.3189 - accuracy: 0.8739 - val_loss: 0.3491 - val_accuracy: 0.8580\n",
            "Epoch 59/100\n",
            "800/800 [==============================] - 1s 1ms/step - loss: 0.3247 - accuracy: 0.8656 - val_loss: 0.3515 - val_accuracy: 0.8560\n",
            "Epoch 60/100\n",
            "800/800 [==============================] - 1s 1ms/step - loss: 0.3400 - accuracy: 0.8670 - val_loss: 0.3481 - val_accuracy: 0.8570\n",
            "Epoch 61/100\n",
            "800/800 [==============================] - 1s 1ms/step - loss: 0.3332 - accuracy: 0.8648 - val_loss: 0.3495 - val_accuracy: 0.8615\n",
            "Epoch 62/100\n",
            "800/800 [==============================] - 1s 1ms/step - loss: 0.3222 - accuracy: 0.8671 - val_loss: 0.3471 - val_accuracy: 0.8615\n",
            "Epoch 63/100\n",
            "800/800 [==============================] - 1s 1ms/step - loss: 0.3457 - accuracy: 0.8571 - val_loss: 0.3493 - val_accuracy: 0.8605\n",
            "Epoch 64/100\n",
            "800/800 [==============================] - 1s 1ms/step - loss: 0.3286 - accuracy: 0.8676 - val_loss: 0.3481 - val_accuracy: 0.8600\n",
            "Epoch 65/100\n",
            "800/800 [==============================] - 1s 1ms/step - loss: 0.3248 - accuracy: 0.8687 - val_loss: 0.3502 - val_accuracy: 0.8620\n",
            "Epoch 66/100\n",
            "800/800 [==============================] - 1s 1ms/step - loss: 0.3179 - accuracy: 0.8672 - val_loss: 0.3472 - val_accuracy: 0.8590\n",
            "Epoch 67/100\n",
            "800/800 [==============================] - 1s 1ms/step - loss: 0.3178 - accuracy: 0.8702 - val_loss: 0.3482 - val_accuracy: 0.8600\n",
            "Epoch 68/100\n",
            "800/800 [==============================] - 1s 1ms/step - loss: 0.3299 - accuracy: 0.8685 - val_loss: 0.3489 - val_accuracy: 0.8585\n",
            "Epoch 69/100\n",
            "800/800 [==============================] - 1s 1ms/step - loss: 0.3251 - accuracy: 0.8653 - val_loss: 0.3466 - val_accuracy: 0.8610\n",
            "Epoch 70/100\n",
            "800/800 [==============================] - 1s 1ms/step - loss: 0.3245 - accuracy: 0.8695 - val_loss: 0.3511 - val_accuracy: 0.8610\n",
            "Epoch 71/100\n",
            "800/800 [==============================] - 1s 1ms/step - loss: 0.3365 - accuracy: 0.8635 - val_loss: 0.3459 - val_accuracy: 0.8590\n",
            "Epoch 72/100\n",
            "800/800 [==============================] - 1s 1ms/step - loss: 0.3223 - accuracy: 0.8700 - val_loss: 0.3453 - val_accuracy: 0.8620\n",
            "Epoch 73/100\n",
            "800/800 [==============================] - 1s 1ms/step - loss: 0.3231 - accuracy: 0.8655 - val_loss: 0.3483 - val_accuracy: 0.8565\n",
            "Epoch 74/100\n",
            "800/800 [==============================] - 1s 1ms/step - loss: 0.3252 - accuracy: 0.8721 - val_loss: 0.3450 - val_accuracy: 0.8610\n",
            "Epoch 75/100\n",
            "800/800 [==============================] - 1s 1ms/step - loss: 0.3316 - accuracy: 0.8667 - val_loss: 0.3474 - val_accuracy: 0.8575\n",
            "Epoch 76/100\n",
            "800/800 [==============================] - 1s 1ms/step - loss: 0.3318 - accuracy: 0.8674 - val_loss: 0.3509 - val_accuracy: 0.8550\n",
            "Epoch 77/100\n",
            "800/800 [==============================] - 1s 1ms/step - loss: 0.3310 - accuracy: 0.8653 - val_loss: 0.3484 - val_accuracy: 0.8580\n",
            "Epoch 78/100\n",
            "800/800 [==============================] - 1s 1ms/step - loss: 0.3357 - accuracy: 0.8603 - val_loss: 0.3498 - val_accuracy: 0.8555\n",
            "Epoch 79/100\n",
            "800/800 [==============================] - 1s 1ms/step - loss: 0.3270 - accuracy: 0.8655 - val_loss: 0.3462 - val_accuracy: 0.8590\n",
            "Epoch 80/100\n",
            "800/800 [==============================] - 1s 1ms/step - loss: 0.3242 - accuracy: 0.8712 - val_loss: 0.3447 - val_accuracy: 0.8595\n",
            "Epoch 81/100\n",
            "800/800 [==============================] - 1s 1ms/step - loss: 0.3404 - accuracy: 0.8602 - val_loss: 0.3458 - val_accuracy: 0.8555\n",
            "Epoch 82/100\n",
            "800/800 [==============================] - 1s 1ms/step - loss: 0.3268 - accuracy: 0.8633 - val_loss: 0.3460 - val_accuracy: 0.8610\n",
            "Epoch 83/100\n",
            "800/800 [==============================] - 1s 1ms/step - loss: 0.3356 - accuracy: 0.8564 - val_loss: 0.3456 - val_accuracy: 0.8595\n",
            "Epoch 84/100\n",
            "800/800 [==============================] - 1s 1ms/step - loss: 0.3226 - accuracy: 0.8684 - val_loss: 0.3461 - val_accuracy: 0.8605\n",
            "Epoch 85/100\n",
            "800/800 [==============================] - 1s 1ms/step - loss: 0.3222 - accuracy: 0.8671 - val_loss: 0.3449 - val_accuracy: 0.8615\n",
            "Epoch 86/100\n",
            "800/800 [==============================] - 1s 1ms/step - loss: 0.3228 - accuracy: 0.8701 - val_loss: 0.3479 - val_accuracy: 0.8605\n",
            "Epoch 87/100\n",
            "800/800 [==============================] - 1s 1ms/step - loss: 0.3353 - accuracy: 0.8631 - val_loss: 0.3463 - val_accuracy: 0.8630\n",
            "Epoch 88/100\n",
            "800/800 [==============================] - 1s 1ms/step - loss: 0.3150 - accuracy: 0.8728 - val_loss: 0.3481 - val_accuracy: 0.8575\n",
            "Epoch 89/100\n",
            "800/800 [==============================] - 1s 1ms/step - loss: 0.3314 - accuracy: 0.8659 - val_loss: 0.3460 - val_accuracy: 0.8600\n",
            "Epoch 90/100\n",
            "800/800 [==============================] - 1s 1ms/step - loss: 0.3159 - accuracy: 0.8743 - val_loss: 0.3470 - val_accuracy: 0.8620\n",
            "Epoch 91/100\n",
            "800/800 [==============================] - 1s 1ms/step - loss: 0.3248 - accuracy: 0.8692 - val_loss: 0.3462 - val_accuracy: 0.8590\n",
            "Epoch 92/100\n",
            "800/800 [==============================] - 1s 1ms/step - loss: 0.3374 - accuracy: 0.8638 - val_loss: 0.3486 - val_accuracy: 0.8575\n",
            "Epoch 93/100\n",
            "800/800 [==============================] - 1s 1ms/step - loss: 0.3306 - accuracy: 0.8648 - val_loss: 0.3509 - val_accuracy: 0.8605\n",
            "Epoch 94/100\n",
            "800/800 [==============================] - 1s 1ms/step - loss: 0.3265 - accuracy: 0.8686 - val_loss: 0.3487 - val_accuracy: 0.8565\n",
            "Epoch 95/100\n",
            "800/800 [==============================] - 1s 1ms/step - loss: 0.3328 - accuracy: 0.8616 - val_loss: 0.3497 - val_accuracy: 0.8570\n",
            "Epoch 96/100\n",
            "800/800 [==============================] - 1s 1ms/step - loss: 0.3198 - accuracy: 0.8707 - val_loss: 0.3450 - val_accuracy: 0.8600\n",
            "Epoch 97/100\n",
            "800/800 [==============================] - 1s 1ms/step - loss: 0.3277 - accuracy: 0.8648 - val_loss: 0.3453 - val_accuracy: 0.8595\n",
            "Epoch 98/100\n",
            "800/800 [==============================] - 1s 1ms/step - loss: 0.3238 - accuracy: 0.8691 - val_loss: 0.3481 - val_accuracy: 0.8575\n",
            "Epoch 99/100\n",
            "800/800 [==============================] - 1s 1ms/step - loss: 0.3252 - accuracy: 0.8626 - val_loss: 0.3470 - val_accuracy: 0.8600\n",
            "Epoch 100/100\n",
            "800/800 [==============================] - 1s 1ms/step - loss: 0.3171 - accuracy: 0.8716 - val_loss: 0.3457 - val_accuracy: 0.8580\n"
          ],
          "name": "stdout"
        }
      ]
    },
    {
      "cell_type": "code",
      "metadata": {
        "colab": {
          "base_uri": "https://localhost:8080/",
          "height": 312
        },
        "id": "MsfiX_54v9Ch",
        "outputId": "8d398fd5-6343-42e5-fada-6455a69a3df7"
      },
      "source": [
        "#ploting the training accuracy and loss vs the validation loss and accuracy \r\n",
        "from matplotlib import pyplot as plt \r\n",
        "plt.plot(history.history['accuracy'])\r\n",
        "plt.plot(history.history['val_accuracy'])\r\n",
        "plt.plot(history.history['loss'])\r\n",
        "plt.plot(history.history['val_loss'])\r\n",
        "plt.legend(['accuracy','validation_accuracy','loss','val_loss'])\r\n",
        "plt.title('model accuracy')\r\n",
        "plt.ylabel('accuracy')\r\n",
        "plt.xlabel('epoch')\r\n",
        "plt.show"
      ],
      "execution_count": null,
      "outputs": [
        {
          "output_type": "execute_result",
          "data": {
            "text/plain": [
              "<function matplotlib.pyplot.show>"
            ]
          },
          "metadata": {
            "tags": []
          },
          "execution_count": 10
        },
        {
          "output_type": "display_data",
          "data": {
            "image/png": "[encoded data removed]",
            "text/plain": [
              "<Figure size 432x288 with 1 Axes>"
            ]
          },
          "metadata": {
            "tags": [],
            "needs_background": "light"
          }
        }
      ]
    },
    {
      "cell_type": "code",
      "metadata": {
        "id": "SY_ER5Tqujkh"
      },
      "source": [
        "!"
      ],
      "execution_count": null,
      "outputs": []
    }
  ]
}